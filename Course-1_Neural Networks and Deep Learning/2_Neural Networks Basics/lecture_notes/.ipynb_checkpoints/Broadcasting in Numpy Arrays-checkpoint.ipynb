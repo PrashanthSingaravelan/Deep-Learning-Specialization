{
 "cells": [
  {
   "cell_type": "markdown",
   "id": "80021626",
   "metadata": {},
   "source": [
    "<img src = 'clips/broadcasting_1.jpg'>"
   ]
  },
  {
   "cell_type": "markdown",
   "id": "af50a366",
   "metadata": {},
   "source": [
    "<img src = 'clips/broadcasting_2.jpg'>"
   ]
  },
  {
   "cell_type": "markdown",
   "id": "e2596500",
   "metadata": {},
   "source": [
    "<img src = 'clips/broadcasting_3.jpg'>"
   ]
  },
  {
   "cell_type": "code",
   "execution_count": 1,
   "id": "5a55fb7a",
   "metadata": {},
   "outputs": [],
   "source": [
    "import numpy as np\n",
    "\n",
    "a = np.array([10,20,30])\n",
    "b = np.array([1,2,3,4])"
   ]
  },
  {
   "cell_type": "code",
   "execution_count": 2,
   "id": "d08a41ee",
   "metadata": {},
   "outputs": [
    {
     "ename": "ValueError",
     "evalue": "operands could not be broadcast together with shapes (3,) (4,) ",
     "output_type": "error",
     "traceback": [
      "\u001b[1;31m---------------------------------------------------------------------------\u001b[0m",
      "\u001b[1;31mValueError\u001b[0m                                Traceback (most recent call last)",
      "\u001b[1;32m<ipython-input-2-8ce765dcfa30>\u001b[0m in \u001b[0;36m<module>\u001b[1;34m\u001b[0m\n\u001b[1;32m----> 1\u001b[1;33m \u001b[0ma\u001b[0m\u001b[1;33m*\u001b[0m\u001b[0mb\u001b[0m\u001b[1;33m\u001b[0m\u001b[1;33m\u001b[0m\u001b[0m\n\u001b[0m",
      "\u001b[1;31mValueError\u001b[0m: operands could not be broadcast together with shapes (3,) (4,) "
     ]
    }
   ],
   "source": [
    "a*b"
   ]
  },
  {
   "cell_type": "markdown",
   "id": "b799485e",
   "metadata": {},
   "source": [
    "## Broadcasting Rules\n",
    "<img src = 'clips/broadcasting_rules.jpg'>"
   ]
  },
  {
   "cell_type": "code",
   "execution_count": null,
   "id": "cba88653",
   "metadata": {},
   "outputs": [],
   "source": [
    "a = np.array([[1,2] , [3,4] , [5,6]])\n",
    "b = np.array([1,2,3])\n",
    "c = np.array([10,20])\n",
    "\n",
    "print(a.shape)\n",
    "print(b.shape)\n",
    "print(c.shape)"
   ]
  },
  {
   "cell_type": "code",
   "execution_count": null,
   "id": "786c97e8",
   "metadata": {},
   "outputs": [],
   "source": [
    "a*c"
   ]
  },
  {
   "cell_type": "markdown",
   "id": "978862d6",
   "metadata": {},
   "source": [
    "<img src = 'clips/example_2.jpg'>"
   ]
  },
  {
   "cell_type": "code",
   "execution_count": null,
   "id": "7ead835b",
   "metadata": {},
   "outputs": [],
   "source": [
    "a*b"
   ]
  },
  {
   "cell_type": "markdown",
   "id": "2841d7a5",
   "metadata": {},
   "source": [
    "<img src = 'clips/example_3.jpg'>"
   ]
  },
  {
   "cell_type": "code",
   "execution_count": null,
   "id": "d5f88790",
   "metadata": {},
   "outputs": [],
   "source": []
  }
 ],
 "metadata": {
  "kernelspec": {
   "display_name": "Python 3",
   "language": "python",
   "name": "python3"
  },
  "language_info": {
   "codemirror_mode": {
    "name": "ipython",
    "version": 3
   },
   "file_extension": ".py",
   "mimetype": "text/x-python",
   "name": "python",
   "nbconvert_exporter": "python",
   "pygments_lexer": "ipython3",
   "version": "3.8.8"
  }
 },
 "nbformat": 4,
 "nbformat_minor": 5
}
