{
 "cells": [
  {
   "cell_type": "code",
   "execution_count": 1,
   "id": "f0b76a5e",
   "metadata": {},
   "outputs": [],
   "source": [
    "import numpy as np\n",
    "import time"
   ]
  },
  {
   "cell_type": "code",
   "execution_count": 2,
   "id": "6862d3c7",
   "metadata": {},
   "outputs": [],
   "source": [
    "a = np.random.rand(1000000)\n",
    "b = np.random.rand(1000000)"
   ]
  },
  {
   "cell_type": "markdown",
   "id": "6d8dadd3",
   "metadata": {},
   "source": [
    "## Vectorized Version"
   ]
  },
  {
   "cell_type": "code",
   "execution_count": 3,
   "id": "1876dd5b",
   "metadata": {},
   "outputs": [
    {
     "name": "stdout",
     "output_type": "stream",
     "text": [
      "Vectorized Version :  14.001607894897461ms\n"
     ]
    }
   ],
   "source": [
    "start = time.time()\n",
    "c = np.dot(a,b)\n",
    "end = time.time()\n",
    "\n",
    "print(\"Vectorized Version : \",str(1000*(end-start)) + \"ms\")"
   ]
  },
  {
   "cell_type": "markdown",
   "id": "8f21b0e2",
   "metadata": {},
   "source": [
    "## Non-Vectorized Version"
   ]
  },
  {
   "cell_type": "code",
   "execution_count": 4,
   "id": "e404673a",
   "metadata": {},
   "outputs": [
    {
     "name": "stdout",
     "output_type": "stream",
     "text": [
      "Non Vectorized Version :  627.0275115966797ms\n"
     ]
    }
   ],
   "source": [
    "c = 0\n",
    "start = time.time()\n",
    "for i in range(1000000):\n",
    "    c = a[i]*b[i]\n",
    "end = time.time()\n",
    "\n",
    "print(\"Non Vectorized Version : \",str(1000*(end-start)) + \"ms\")"
   ]
  },
  {
   "cell_type": "code",
   "execution_count": null,
   "id": "b3eb1ad7",
   "metadata": {},
   "outputs": [],
   "source": []
  }
 ],
 "metadata": {
  "kernelspec": {
   "display_name": "Python 3",
   "language": "python",
   "name": "python3"
  },
  "language_info": {
   "codemirror_mode": {
    "name": "ipython",
    "version": 3
   },
   "file_extension": ".py",
   "mimetype": "text/x-python",
   "name": "python",
   "nbconvert_exporter": "python",
   "pygments_lexer": "ipython3",
   "version": "3.8.8"
  }
 },
 "nbformat": 4,
 "nbformat_minor": 5
}
