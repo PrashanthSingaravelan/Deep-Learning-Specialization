{
 "cells": [
  {
   "cell_type": "code",
   "execution_count": 1,
   "id": "a08c8bb8",
   "metadata": {},
   "outputs": [],
   "source": [
    "import numpy as np"
   ]
  },
  {
   "cell_type": "code",
   "execution_count": 2,
   "id": "21f93e40",
   "metadata": {},
   "outputs": [
    {
     "name": "stdout",
     "output_type": "stream",
     "text": [
      "[[ 56.    0.    4.4  68. ]\n",
      " [  1.2 104.   52.    8. ]\n",
      " [  1.8 135.   99.    0.9]]\n"
     ]
    }
   ],
   "source": [
    "A = np.array([[56.0, 0.0, 4.4, 68.0],\n",
    "              [1.2, 104.0, 52.0, 8.0],\n",
    "              [1.8, 135.0, 99.0, 0.9]])\n",
    "print(A)"
   ]
  },
  {
   "cell_type": "code",
   "execution_count": 3,
   "id": "8fb6ab51",
   "metadata": {},
   "outputs": [
    {
     "data": {
      "text/plain": [
       "array([ 59. , 239. , 155.4,  76.9])"
      ]
     },
     "execution_count": 3,
     "metadata": {},
     "output_type": "execute_result"
    }
   ],
   "source": [
    "## axis=0 --> to sum up vertically\n",
    "## axis=1 --> to sum up horizontally\n",
    "cal = A.sum(axis=0) \n",
    "cal"
   ]
  },
  {
   "cell_type": "code",
   "execution_count": 4,
   "id": "7ebc3027",
   "metadata": {},
   "outputs": [
    {
     "name": "stdout",
     "output_type": "stream",
     "text": [
      "Numpy arrray shape :  (3, 4)\n",
      "cal(Sum op the vertical axis :  (4,)\n"
     ]
    }
   ],
   "source": [
    "print(\"Numpy arrray shape : \",A.shape)\n",
    "print(\"cal(Sum op the vertical axis : \",cal.shape)"
   ]
  },
  {
   "cell_type": "code",
   "execution_count": 5,
   "id": "95fd1cb5",
   "metadata": {},
   "outputs": [
    {
     "data": {
      "text/plain": [
       "array([[94.91525424,  0.        ,  2.83140283, 88.42652796],\n",
       "       [ 2.03389831, 43.51464435, 33.46203346, 10.40312094],\n",
       "       [ 3.05084746, 56.48535565, 63.70656371,  1.17035111]])"
      ]
     },
     "execution_count": 5,
     "metadata": {},
     "output_type": "execute_result"
    }
   ],
   "source": [
    "percentage = A/cal * 100\n",
    "percentage"
   ]
  },
  {
   "cell_type": "code",
   "execution_count": 6,
   "id": "a580f872",
   "metadata": {},
   "outputs": [
    {
     "data": {
      "text/plain": [
       "array([[94.91525424,  0.        ,  2.83140283, 88.42652796],\n",
       "       [ 2.03389831, 43.51464435, 33.46203346, 10.40312094],\n",
       "       [ 3.05084746, 56.48535565, 63.70656371,  1.17035111]])"
      ]
     },
     "execution_count": 6,
     "metadata": {},
     "output_type": "execute_result"
    }
   ],
   "source": [
    "percentage = A/cal.reshape(1,4) * 100\n",
    "percentage"
   ]
  },
  {
   "cell_type": "code",
   "execution_count": null,
   "id": "c0f234b2",
   "metadata": {},
   "outputs": [],
   "source": []
  },
  {
   "cell_type": "code",
   "execution_count": 10,
   "id": "80e0bcbd",
   "metadata": {},
   "outputs": [],
   "source": [
    "arr1 = np.array([10,20,30,40,50])\n",
    "arr2 = np.array([10,20,30,40,50])"
   ]
  },
  {
   "cell_type": "code",
   "execution_count": 11,
   "id": "32b816e5",
   "metadata": {},
   "outputs": [
    {
     "name": "stdout",
     "output_type": "stream",
     "text": [
      "(5,)\n",
      "(5,)\n"
     ]
    }
   ],
   "source": [
    "print(arr1.shape)\n",
    "print(arr2.shape)"
   ]
  },
  {
   "cell_type": "code",
   "execution_count": 12,
   "id": "5c075810",
   "metadata": {},
   "outputs": [
    {
     "name": "stdout",
     "output_type": "stream",
     "text": [
      "5500\n"
     ]
    }
   ],
   "source": [
    "## Inner Product\n",
    "print(np.dot(arr1,arr2.T)) "
   ]
  },
  {
   "cell_type": "code",
   "execution_count": 13,
   "id": "3bdac1a7",
   "metadata": {},
   "outputs": [
    {
     "name": "stdout",
     "output_type": "stream",
     "text": [
      "5500\n"
     ]
    }
   ],
   "source": [
    "## Outer Product\n",
    "print(np.dot(arr1.T,arr2))"
   ]
  },
  {
   "cell_type": "code",
   "execution_count": 17,
   "id": "ad66d42b",
   "metadata": {},
   "outputs": [
    {
     "name": "stdout",
     "output_type": "stream",
     "text": [
      "Shape of arr1 :  (1, 5)\n",
      "Shape of arr2 :  (1, 5)\n"
     ]
    }
   ],
   "source": [
    "arr1 = np.array([[10,20,30,40,50]])\n",
    "arr2 = np.array([[10,20,30,40,50]])\n",
    "\n",
    "print(\"Shape of arr1 : \",arr1.shape)\n",
    "print(\"Shape of arr2 : \",arr2.shape)"
   ]
  },
  {
   "cell_type": "code",
   "execution_count": 18,
   "id": "ecc1d55b",
   "metadata": {},
   "outputs": [
    {
     "name": "stdout",
     "output_type": "stream",
     "text": [
      "Shape of arr1 :  (1, 5)\n",
      "Shape of arr2 :  (5, 1)\n",
      "[[5500]]\n"
     ]
    }
   ],
   "source": [
    "## Inner Product\n",
    "print(\"Shape of arr1 : \",arr1.shape)\n",
    "print(\"Shape of arr2 : \",arr2.T.shape)\n",
    "print(np.dot(arr1,arr2.T)) "
   ]
  },
  {
   "cell_type": "code",
   "execution_count": 19,
   "id": "ff5b1ca4",
   "metadata": {},
   "outputs": [
    {
     "name": "stdout",
     "output_type": "stream",
     "text": [
      "Shape of arr1 :  (5, 1)\n",
      "Shape of arr2 :  (1, 5)\n",
      "[[ 100  200  300  400  500]\n",
      " [ 200  400  600  800 1000]\n",
      " [ 300  600  900 1200 1500]\n",
      " [ 400  800 1200 1600 2000]\n",
      " [ 500 1000 1500 2000 2500]]\n"
     ]
    }
   ],
   "source": [
    "## Outer Product\n",
    "print(\"Shape of arr1 : \",arr1.T.shape)\n",
    "print(\"Shape of arr2 : \",arr2.shape)\n",
    "print(np.dot(arr1.T,arr2))"
   ]
  },
  {
   "cell_type": "code",
   "execution_count": null,
   "id": "477016e1",
   "metadata": {},
   "outputs": [],
   "source": []
  },
  {
   "cell_type": "code",
   "execution_count": 28,
   "id": "7fd2ead1",
   "metadata": {},
   "outputs": [],
   "source": [
    "arr1 = np.array([[10,20,30,40,50]])\n",
    "arr2 = np.array([[10,20,30,40,50]])"
   ]
  },
  {
   "cell_type": "code",
   "execution_count": 29,
   "id": "1e516d2e",
   "metadata": {},
   "outputs": [
    {
     "name": "stdout",
     "output_type": "stream",
     "text": [
      "(1, 5)\n",
      "(1, 5)\n"
     ]
    }
   ],
   "source": [
    "print(arr1.shape)\n",
    "print(arr2.shape)"
   ]
  },
  {
   "cell_type": "code",
   "execution_count": 20,
   "id": "d3f41eab",
   "metadata": {},
   "outputs": [
    {
     "name": "stdout",
     "output_type": "stream",
     "text": [
      "[[ 100  200  300  400  500]\n",
      " [ 200  400  600  800 1000]\n",
      " [ 300  600  900 1200 1500]\n",
      " [ 400  800 1200 1600 2000]\n",
      " [ 500 1000 1500 2000 2500]]\n"
     ]
    }
   ],
   "source": [
    "print(np.dot(arr1.T,arr2))"
   ]
  },
  {
   "cell_type": "code",
   "execution_count": 21,
   "id": "6b4337b2",
   "metadata": {},
   "outputs": [
    {
     "name": "stdout",
     "output_type": "stream",
     "text": [
      "[[ 100  200  300  400  500]\n",
      " [ 200  400  600  800 1000]\n",
      " [ 300  600  900 1200 1500]\n",
      " [ 400  800 1200 1600 2000]\n",
      " [ 500 1000 1500 2000 2500]]\n"
     ]
    }
   ],
   "source": [
    "print(np.dot(arr2.T,arr1))"
   ]
  },
  {
   "cell_type": "code",
   "execution_count": null,
   "id": "49f9450d",
   "metadata": {},
   "outputs": [],
   "source": []
  }
 ],
 "metadata": {
  "kernelspec": {
   "display_name": "Python 3",
   "language": "python",
   "name": "python3"
  },
  "language_info": {
   "codemirror_mode": {
    "name": "ipython",
    "version": 3
   },
   "file_extension": ".py",
   "mimetype": "text/x-python",
   "name": "python",
   "nbconvert_exporter": "python",
   "pygments_lexer": "ipython3",
   "version": "3.8.8"
  }
 },
 "nbformat": 4,
 "nbformat_minor": 5
}
