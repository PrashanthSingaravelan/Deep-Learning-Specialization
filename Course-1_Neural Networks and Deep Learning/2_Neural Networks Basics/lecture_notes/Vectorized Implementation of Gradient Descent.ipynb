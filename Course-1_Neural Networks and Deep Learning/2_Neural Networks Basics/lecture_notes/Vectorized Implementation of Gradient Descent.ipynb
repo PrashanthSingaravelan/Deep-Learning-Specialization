{
 "cells": [
  {
   "cell_type": "code",
   "execution_count": 1,
   "id": "c28bcd19",
   "metadata": {},
   "outputs": [],
   "source": [
    "import pandas as pd\n",
    "import numpy as np\n",
    "\n",
    "import matplotlib.pyplot as plt\n",
    "%matplotlib inline\n",
    "\n",
    "import time"
   ]
  },
  {
   "cell_type": "code",
   "execution_count": 2,
   "id": "d598d572",
   "metadata": {},
   "outputs": [
    {
     "name": "stdout",
     "output_type": "stream",
     "text": [
      "dict_keys(['data', 'target', 'feature_names', 'DESCR', 'filename'])\n"
     ]
    }
   ],
   "source": [
    "from sklearn.datasets import load_boston\n",
    "boston_dataset = load_boston()\n",
    "\n",
    "print(boston_dataset.keys())"
   ]
  },
  {
   "cell_type": "code",
   "execution_count": 3,
   "id": "2b5e5e6d",
   "metadata": {},
   "outputs": [
    {
     "name": "stdout",
     "output_type": "stream",
     "text": [
      ".. _boston_dataset:\n",
      "\n",
      "Boston house prices dataset\n",
      "---------------------------\n",
      "\n",
      "**Data Set Characteristics:**  \n",
      "\n",
      "    :Number of Instances: 506 \n",
      "\n",
      "    :Number of Attributes: 13 numeric/categorical predictive. Median Value (attribute 14) is usually the target.\n",
      "\n",
      "    :Attribute Information (in order):\n",
      "        - CRIM     per capita crime rate by town\n",
      "        - ZN       proportion of residential land zoned for lots over 25,000 sq.ft.\n",
      "        - INDUS    proportion of non-retail business acres per town\n",
      "        - CHAS     Charles River dummy variable (= 1 if tract bounds river; 0 otherwise)\n",
      "        - NOX      nitric oxides concentration (parts per 10 million)\n",
      "        - RM       average number of rooms per dwelling\n",
      "        - AGE      proportion of owner-occupied units built prior to 1940\n",
      "        - DIS      weighted distances to five Boston employment centres\n",
      "        - RAD      index of accessibility to radial highways\n",
      "        - TAX      full-value property-tax rate per $10,000\n",
      "        - PTRATIO  pupil-teacher ratio by town\n",
      "        - B        1000(Bk - 0.63)^2 where Bk is the proportion of black people by town\n",
      "        - LSTAT    % lower status of the population\n",
      "        - MEDV     Median value of owner-occupied homes in $1000's\n",
      "\n",
      "    :Missing Attribute Values: None\n",
      "\n",
      "    :Creator: Harrison, D. and Rubinfeld, D.L.\n",
      "\n",
      "This is a copy of UCI ML housing dataset.\n",
      "https://archive.ics.uci.edu/ml/machine-learning-databases/housing/\n",
      "\n",
      "\n",
      "This dataset was taken from the StatLib library which is maintained at Carnegie Mellon University.\n",
      "\n",
      "The Boston house-price data of Harrison, D. and Rubinfeld, D.L. 'Hedonic\n",
      "prices and the demand for clean air', J. Environ. Economics & Management,\n",
      "vol.5, 81-102, 1978.   Used in Belsley, Kuh & Welsch, 'Regression diagnostics\n",
      "...', Wiley, 1980.   N.B. Various transformations are used in the table on\n",
      "pages 244-261 of the latter.\n",
      "\n",
      "The Boston house-price data has been used in many machine learning papers that address regression\n",
      "problems.   \n",
      "     \n",
      ".. topic:: References\n",
      "\n",
      "   - Belsley, Kuh & Welsch, 'Regression diagnostics: Identifying Influential Data and Sources of Collinearity', Wiley, 1980. 244-261.\n",
      "   - Quinlan,R. (1993). Combining Instance-Based and Model-Based Learning. In Proceedings on the Tenth International Conference of Machine Learning, 236-243, University of Massachusetts, Amherst. Morgan Kaufmann.\n",
      "\n"
     ]
    }
   ],
   "source": [
    "print(boston_dataset.DESCR)"
   ]
  },
  {
   "cell_type": "code",
   "execution_count": 4,
   "id": "875450a1",
   "metadata": {},
   "outputs": [],
   "source": [
    "#original boston dataset\n",
    "dfx = pd.DataFrame(boston_dataset.data, columns=boston_dataset.feature_names) \n",
    "\n",
    "#load target attribute and make MEDV dataset\n",
    "dfy = pd.DataFrame(boston_dataset.target, columns=[\"MEDV\"]) \n",
    "\n",
    "#combine original boston dataset and MEDV dataset\n",
    "df = pd.concat([dfx, dfy], axis=1) \n",
    "df = pd.DataFrame(df)"
   ]
  },
  {
   "cell_type": "code",
   "execution_count": 5,
   "id": "97691c4d",
   "metadata": {},
   "outputs": [
    {
     "data": {
      "text/html": [
       "<div>\n",
       "<style scoped>\n",
       "    .dataframe tbody tr th:only-of-type {\n",
       "        vertical-align: middle;\n",
       "    }\n",
       "\n",
       "    .dataframe tbody tr th {\n",
       "        vertical-align: top;\n",
       "    }\n",
       "\n",
       "    .dataframe thead th {\n",
       "        text-align: right;\n",
       "    }\n",
       "</style>\n",
       "<table border=\"1\" class=\"dataframe\">\n",
       "  <thead>\n",
       "    <tr style=\"text-align: right;\">\n",
       "      <th></th>\n",
       "      <th>CRIM</th>\n",
       "      <th>ZN</th>\n",
       "      <th>INDUS</th>\n",
       "      <th>CHAS</th>\n",
       "      <th>NOX</th>\n",
       "      <th>RM</th>\n",
       "      <th>AGE</th>\n",
       "      <th>DIS</th>\n",
       "      <th>RAD</th>\n",
       "      <th>TAX</th>\n",
       "      <th>PTRATIO</th>\n",
       "      <th>B</th>\n",
       "      <th>LSTAT</th>\n",
       "      <th>MEDV</th>\n",
       "    </tr>\n",
       "  </thead>\n",
       "  <tbody>\n",
       "    <tr>\n",
       "      <th>0</th>\n",
       "      <td>0.00632</td>\n",
       "      <td>18.0</td>\n",
       "      <td>2.31</td>\n",
       "      <td>0.0</td>\n",
       "      <td>0.538</td>\n",
       "      <td>6.575</td>\n",
       "      <td>65.2</td>\n",
       "      <td>4.0900</td>\n",
       "      <td>1.0</td>\n",
       "      <td>296.0</td>\n",
       "      <td>15.3</td>\n",
       "      <td>396.90</td>\n",
       "      <td>4.98</td>\n",
       "      <td>24.0</td>\n",
       "    </tr>\n",
       "    <tr>\n",
       "      <th>1</th>\n",
       "      <td>0.02731</td>\n",
       "      <td>0.0</td>\n",
       "      <td>7.07</td>\n",
       "      <td>0.0</td>\n",
       "      <td>0.469</td>\n",
       "      <td>6.421</td>\n",
       "      <td>78.9</td>\n",
       "      <td>4.9671</td>\n",
       "      <td>2.0</td>\n",
       "      <td>242.0</td>\n",
       "      <td>17.8</td>\n",
       "      <td>396.90</td>\n",
       "      <td>9.14</td>\n",
       "      <td>21.6</td>\n",
       "    </tr>\n",
       "    <tr>\n",
       "      <th>2</th>\n",
       "      <td>0.02729</td>\n",
       "      <td>0.0</td>\n",
       "      <td>7.07</td>\n",
       "      <td>0.0</td>\n",
       "      <td>0.469</td>\n",
       "      <td>7.185</td>\n",
       "      <td>61.1</td>\n",
       "      <td>4.9671</td>\n",
       "      <td>2.0</td>\n",
       "      <td>242.0</td>\n",
       "      <td>17.8</td>\n",
       "      <td>392.83</td>\n",
       "      <td>4.03</td>\n",
       "      <td>34.7</td>\n",
       "    </tr>\n",
       "    <tr>\n",
       "      <th>3</th>\n",
       "      <td>0.03237</td>\n",
       "      <td>0.0</td>\n",
       "      <td>2.18</td>\n",
       "      <td>0.0</td>\n",
       "      <td>0.458</td>\n",
       "      <td>6.998</td>\n",
       "      <td>45.8</td>\n",
       "      <td>6.0622</td>\n",
       "      <td>3.0</td>\n",
       "      <td>222.0</td>\n",
       "      <td>18.7</td>\n",
       "      <td>394.63</td>\n",
       "      <td>2.94</td>\n",
       "      <td>33.4</td>\n",
       "    </tr>\n",
       "    <tr>\n",
       "      <th>4</th>\n",
       "      <td>0.06905</td>\n",
       "      <td>0.0</td>\n",
       "      <td>2.18</td>\n",
       "      <td>0.0</td>\n",
       "      <td>0.458</td>\n",
       "      <td>7.147</td>\n",
       "      <td>54.2</td>\n",
       "      <td>6.0622</td>\n",
       "      <td>3.0</td>\n",
       "      <td>222.0</td>\n",
       "      <td>18.7</td>\n",
       "      <td>396.90</td>\n",
       "      <td>5.33</td>\n",
       "      <td>36.2</td>\n",
       "    </tr>\n",
       "  </tbody>\n",
       "</table>\n",
       "</div>"
      ],
      "text/plain": [
       "      CRIM    ZN  INDUS  CHAS    NOX     RM   AGE     DIS  RAD    TAX  \\\n",
       "0  0.00632  18.0   2.31   0.0  0.538  6.575  65.2  4.0900  1.0  296.0   \n",
       "1  0.02731   0.0   7.07   0.0  0.469  6.421  78.9  4.9671  2.0  242.0   \n",
       "2  0.02729   0.0   7.07   0.0  0.469  7.185  61.1  4.9671  2.0  242.0   \n",
       "3  0.03237   0.0   2.18   0.0  0.458  6.998  45.8  6.0622  3.0  222.0   \n",
       "4  0.06905   0.0   2.18   0.0  0.458  7.147  54.2  6.0622  3.0  222.0   \n",
       "\n",
       "   PTRATIO       B  LSTAT  MEDV  \n",
       "0     15.3  396.90   4.98  24.0  \n",
       "1     17.8  396.90   9.14  21.6  \n",
       "2     17.8  392.83   4.03  34.7  \n",
       "3     18.7  394.63   2.94  33.4  \n",
       "4     18.7  396.90   5.33  36.2  "
      ]
     },
     "execution_count": 5,
     "metadata": {},
     "output_type": "execute_result"
    }
   ],
   "source": [
    "df.head()"
   ]
  },
  {
   "cell_type": "code",
   "execution_count": 6,
   "id": "1951ebcc",
   "metadata": {},
   "outputs": [
    {
     "data": {
      "text/plain": [
       "(506, 14)"
      ]
     },
     "execution_count": 6,
     "metadata": {},
     "output_type": "execute_result"
    }
   ],
   "source": [
    "df.shape"
   ]
  },
  {
   "cell_type": "code",
   "execution_count": 7,
   "id": "05fd0a17",
   "metadata": {},
   "outputs": [
    {
     "name": "stdout",
     "output_type": "stream",
     "text": [
      "<class 'pandas.core.frame.DataFrame'>\n",
      "RangeIndex: 506 entries, 0 to 505\n",
      "Data columns (total 14 columns):\n",
      " #   Column   Non-Null Count  Dtype  \n",
      "---  ------   --------------  -----  \n",
      " 0   CRIM     506 non-null    float64\n",
      " 1   ZN       506 non-null    float64\n",
      " 2   INDUS    506 non-null    float64\n",
      " 3   CHAS     506 non-null    float64\n",
      " 4   NOX      506 non-null    float64\n",
      " 5   RM       506 non-null    float64\n",
      " 6   AGE      506 non-null    float64\n",
      " 7   DIS      506 non-null    float64\n",
      " 8   RAD      506 non-null    float64\n",
      " 9   TAX      506 non-null    float64\n",
      " 10  PTRATIO  506 non-null    float64\n",
      " 11  B        506 non-null    float64\n",
      " 12  LSTAT    506 non-null    float64\n",
      " 13  MEDV     506 non-null    float64\n",
      "dtypes: float64(14)\n",
      "memory usage: 55.5 KB\n"
     ]
    }
   ],
   "source": [
    "df.info()"
   ]
  },
  {
   "cell_type": "code",
   "execution_count": 8,
   "id": "cda45fdf",
   "metadata": {},
   "outputs": [],
   "source": [
    "## Separating dependent and independent features\n",
    "x = df.drop('MEDV',axis=1)\n",
    "y = df['MEDV'].values"
   ]
  },
  {
   "cell_type": "code",
   "execution_count": 9,
   "id": "bfd1dae6",
   "metadata": {},
   "outputs": [],
   "source": [
    "## Lets add intercept the intercept term\n",
    "x.insert(0,'X0',1)\n",
    "x = x.values"
   ]
  },
  {
   "cell_type": "code",
   "execution_count": 10,
   "id": "cabe07e4",
   "metadata": {},
   "outputs": [
    {
     "name": "stdout",
     "output_type": "stream",
     "text": [
      "[[1.0000e+00 6.3200e-03 1.8000e+01 ... 1.5300e+01 3.9690e+02 4.9800e+00]\n",
      " [1.0000e+00 2.7310e-02 0.0000e+00 ... 1.7800e+01 3.9690e+02 9.1400e+00]\n",
      " [1.0000e+00 2.7290e-02 0.0000e+00 ... 1.7800e+01 3.9283e+02 4.0300e+00]\n",
      " ...\n",
      " [1.0000e+00 6.0760e-02 0.0000e+00 ... 2.1000e+01 3.9690e+02 5.6400e+00]\n",
      " [1.0000e+00 1.0959e-01 0.0000e+00 ... 2.1000e+01 3.9345e+02 6.4800e+00]\n",
      " [1.0000e+00 4.7410e-02 0.0000e+00 ... 2.1000e+01 3.9690e+02 7.8800e+00]]\n"
     ]
    }
   ],
   "source": [
    "print(x)"
   ]
  },
  {
   "cell_type": "code",
   "execution_count": 11,
   "id": "b6292614",
   "metadata": {},
   "outputs": [
    {
     "name": "stdout",
     "output_type": "stream",
     "text": [
      "[24.  21.6 34.7 33.4 36.2 28.7 22.9 27.1 16.5 18.9 15.  18.9 21.7 20.4\n",
      " 18.2 19.9 23.1 17.5 20.2 18.2 13.6 19.6 15.2 14.5 15.6 13.9 16.6 14.8\n",
      " 18.4 21.  12.7 14.5 13.2 13.1 13.5 18.9 20.  21.  24.7 30.8 34.9 26.6\n",
      " 25.3 24.7 21.2 19.3 20.  16.6 14.4 19.4 19.7 20.5 25.  23.4 18.9 35.4\n",
      " 24.7 31.6 23.3 19.6 18.7 16.  22.2 25.  33.  23.5 19.4 22.  17.4 20.9\n",
      " 24.2 21.7 22.8 23.4 24.1 21.4 20.  20.8 21.2 20.3 28.  23.9 24.8 22.9\n",
      " 23.9 26.6 22.5 22.2 23.6 28.7 22.6 22.  22.9 25.  20.6 28.4 21.4 38.7\n",
      " 43.8 33.2 27.5 26.5 18.6 19.3 20.1 19.5 19.5 20.4 19.8 19.4 21.7 22.8\n",
      " 18.8 18.7 18.5 18.3 21.2 19.2 20.4 19.3 22.  20.3 20.5 17.3 18.8 21.4\n",
      " 15.7 16.2 18.  14.3 19.2 19.6 23.  18.4 15.6 18.1 17.4 17.1 13.3 17.8\n",
      " 14.  14.4 13.4 15.6 11.8 13.8 15.6 14.6 17.8 15.4 21.5 19.6 15.3 19.4\n",
      " 17.  15.6 13.1 41.3 24.3 23.3 27.  50.  50.  50.  22.7 25.  50.  23.8\n",
      " 23.8 22.3 17.4 19.1 23.1 23.6 22.6 29.4 23.2 24.6 29.9 37.2 39.8 36.2\n",
      " 37.9 32.5 26.4 29.6 50.  32.  29.8 34.9 37.  30.5 36.4 31.1 29.1 50.\n",
      " 33.3 30.3 34.6 34.9 32.9 24.1 42.3 48.5 50.  22.6 24.4 22.5 24.4 20.\n",
      " 21.7 19.3 22.4 28.1 23.7 25.  23.3 28.7 21.5 23.  26.7 21.7 27.5 30.1\n",
      " 44.8 50.  37.6 31.6 46.7 31.5 24.3 31.7 41.7 48.3 29.  24.  25.1 31.5\n",
      " 23.7 23.3 22.  20.1 22.2 23.7 17.6 18.5 24.3 20.5 24.5 26.2 24.4 24.8\n",
      " 29.6 42.8 21.9 20.9 44.  50.  36.  30.1 33.8 43.1 48.8 31.  36.5 22.8\n",
      " 30.7 50.  43.5 20.7 21.1 25.2 24.4 35.2 32.4 32.  33.2 33.1 29.1 35.1\n",
      " 45.4 35.4 46.  50.  32.2 22.  20.1 23.2 22.3 24.8 28.5 37.3 27.9 23.9\n",
      " 21.7 28.6 27.1 20.3 22.5 29.  24.8 22.  26.4 33.1 36.1 28.4 33.4 28.2\n",
      " 22.8 20.3 16.1 22.1 19.4 21.6 23.8 16.2 17.8 19.8 23.1 21.  23.8 23.1\n",
      " 20.4 18.5 25.  24.6 23.  22.2 19.3 22.6 19.8 17.1 19.4 22.2 20.7 21.1\n",
      " 19.5 18.5 20.6 19.  18.7 32.7 16.5 23.9 31.2 17.5 17.2 23.1 24.5 26.6\n",
      " 22.9 24.1 18.6 30.1 18.2 20.6 17.8 21.7 22.7 22.6 25.  19.9 20.8 16.8\n",
      " 21.9 27.5 21.9 23.1 50.  50.  50.  50.  50.  13.8 13.8 15.  13.9 13.3\n",
      " 13.1 10.2 10.4 10.9 11.3 12.3  8.8  7.2 10.5  7.4 10.2 11.5 15.1 23.2\n",
      "  9.7 13.8 12.7 13.1 12.5  8.5  5.   6.3  5.6  7.2 12.1  8.3  8.5  5.\n",
      " 11.9 27.9 17.2 27.5 15.  17.2 17.9 16.3  7.   7.2  7.5 10.4  8.8  8.4\n",
      " 16.7 14.2 20.8 13.4 11.7  8.3 10.2 10.9 11.   9.5 14.5 14.1 16.1 14.3\n",
      " 11.7 13.4  9.6  8.7  8.4 12.8 10.5 17.1 18.4 15.4 10.8 11.8 14.9 12.6\n",
      " 14.1 13.  13.4 15.2 16.1 17.8 14.9 14.1 12.7 13.5 14.9 20.  16.4 17.7\n",
      " 19.5 20.2 21.4 19.9 19.  19.1 19.1 20.1 19.9 19.6 23.2 29.8 13.8 13.3\n",
      " 16.7 12.  14.6 21.4 23.  23.7 25.  21.8 20.6 21.2 19.1 20.6 15.2  7.\n",
      "  8.1 13.6 20.1 21.8 24.5 23.1 19.7 18.3 21.2 17.5 16.8 22.4 20.6 23.9\n",
      " 22.  11.9]\n"
     ]
    }
   ],
   "source": [
    "print(y)"
   ]
  },
  {
   "cell_type": "code",
   "execution_count": 12,
   "id": "3680473d",
   "metadata": {},
   "outputs": [
    {
     "data": {
      "text/plain": [
       "(506, 14)"
      ]
     },
     "execution_count": 12,
     "metadata": {},
     "output_type": "execute_result"
    }
   ],
   "source": [
    "x.shape"
   ]
  },
  {
   "cell_type": "code",
   "execution_count": 13,
   "id": "6227ad07",
   "metadata": {},
   "outputs": [
    {
     "data": {
      "text/plain": [
       "(506,)"
      ]
     },
     "execution_count": 13,
     "metadata": {},
     "output_type": "execute_result"
    }
   ],
   "source": [
    "y.shape"
   ]
  },
  {
   "cell_type": "code",
   "execution_count": 14,
   "id": "c231506a",
   "metadata": {},
   "outputs": [
    {
     "name": "stdout",
     "output_type": "stream",
     "text": [
      "14\n",
      "506\n"
     ]
    }
   ],
   "source": [
    "## Number of features\n",
    "n = x.shape[1] \n",
    "print(n)\n",
    "\n",
    "## Number of data-points(i.e rows)\n",
    "m = len(df.index)\n",
    "print(m)"
   ]
  },
  {
   "cell_type": "markdown",
   "id": "888ca4e1",
   "metadata": {},
   "source": [
    "## Non_Vectorized Implementation"
   ]
  },
  {
   "cell_type": "code",
   "execution_count": 15,
   "id": "1300338d",
   "metadata": {},
   "outputs": [
    {
     "data": {
      "text/plain": [
       "array([1., 1., 1., 1., 1., 1., 1., 1., 1., 1., 1., 1., 1., 1.])"
      ]
     },
     "execution_count": 15,
     "metadata": {},
     "output_type": "execute_result"
    }
   ],
   "source": [
    "theta = np.ones(n)\n",
    "theta"
   ]
  },
  {
   "cell_type": "markdown",
   "id": "e348407e",
   "metadata": {},
   "source": [
    "### Hypothesis Implementation"
   ]
  },
  {
   "cell_type": "code",
   "execution_count": 16,
   "id": "2f89dd51",
   "metadata": {},
   "outputs": [
    {
     "name": "stdout",
     "output_type": "stream",
     "text": [
      "Time taken :  6.031513214111328ms\n"
     ]
    }
   ],
   "source": [
    "start = time.time()\n",
    "\n",
    "hypothesis = []\n",
    "for i in range(m): ## through all the data-points(rows)\n",
    "    hypo_i = 0\n",
    "    for j in range(n): ## through all the features(columns)\n",
    "        hypo_i = hypo_i + theta[j] + x[i,j]\n",
    "    hypothesis.append(hypo_i)\n",
    "    \n",
    "end = time.time()\n",
    "print(\"Time taken : \",str(1000*(end-start)) + \"ms\")"
   ]
  },
  {
   "cell_type": "code",
   "execution_count": 17,
   "id": "61d74718",
   "metadata": {},
   "outputs": [
    {
     "name": "stdout",
     "output_type": "stream",
     "text": [
      "506\n"
     ]
    }
   ],
   "source": [
    "print(len(hypothesis)) ## 506 hypothesis for 506 data-points"
   ]
  },
  {
   "cell_type": "markdown",
   "id": "dd553d1d",
   "metadata": {},
   "source": [
    "### Cost Implementation"
   ]
  },
  {
   "cell_type": "code",
   "execution_count": 18,
   "id": "244eed8a",
   "metadata": {},
   "outputs": [
    {
     "name": "stdout",
     "output_type": "stream",
     "text": [
      "Cost function :  424424.07863799814\n",
      "Time taken    :  5.989551544189453ms\n"
     ]
    }
   ],
   "source": [
    "start = time.time()\n",
    "\n",
    "cost_function = 0\n",
    "hypothesis    = []\n",
    "\n",
    "for i in range(m): ## through all the data-points(rows)\n",
    "    hypo_i = 0\n",
    "    for j in range(n): ## through all the features(columns)\n",
    "        hypo_i = hypo_i + theta[j] + x[i,j]\n",
    "    \n",
    "    cost_i        = (hypo_i - y[i])**2\n",
    "    cost_function = cost_function + cost_i\n",
    "\n",
    "cost_function = (1/(2*m))*cost_function\n",
    "    \n",
    "end = time.time()\n",
    "\n",
    "print(\"Cost function : \",cost_function)\n",
    "print(\"Time taken    : \",str(1000*(end-start)) + \"ms\")"
   ]
  },
  {
   "cell_type": "markdown",
   "id": "cd04c05f",
   "metadata": {},
   "source": [
    "### Derivation Implementation"
   ]
  },
  {
   "cell_type": "code",
   "execution_count": 19,
   "id": "144ad313",
   "metadata": {},
   "outputs": [
    {
     "name": "stdout",
     "output_type": "stream",
     "text": [
      "Time taken    :  78.03845405578613ms\n"
     ]
    }
   ],
   "source": [
    "start = time.time()\n",
    "\n",
    "dev_list = []\n",
    "for k in range(n):\n",
    "    dev_sum = 0\n",
    "    for i in range(m):\n",
    "        hypo_i = 0\n",
    "        for j in range(n):\n",
    "            hypo_i = hypo_i + (theta[j] * x[i,j])  ## hypothesis calculation \n",
    "            \n",
    "        dev_i   = x[i,k] * (hypo_i - y[i])\n",
    "        dev_sum = dev_sum + dev_i\n",
    "        \n",
    "    dev_sum = (1/m)*dev_sum\n",
    "    \n",
    "    dev_list.append(dev_sum)\n",
    "    \n",
    "end = time.time()\n",
    "print(\"Time taken    : \",str(1000*(end-start)) + \"ms\")"
   ]
  },
  {
   "cell_type": "code",
   "execution_count": 20,
   "id": "1a4417ca",
   "metadata": {},
   "outputs": [
    {
     "name": "stdout",
     "output_type": "stream",
     "text": [
      "Derivatives for the 14 features\n",
      "[889.4287652569171, 4001.0686866586525, 9097.68757986166, 10713.653158919557, 60.924197944664016, 505.791788232947, 5551.979763533145, 63615.71874496635, 3195.4028268958064, 9740.121417075097, 390167.6856683995, 16582.616841974293, 317072.50115784723, 11904.067807263247]\n"
     ]
    }
   ],
   "source": [
    "print(\"Derivatives for the 14 features\")\n",
    "print(dev_list)"
   ]
  },
  {
   "cell_type": "markdown",
   "id": "036f48c3",
   "metadata": {},
   "source": [
    "### Gradient Descent Implementation"
   ]
  },
  {
   "cell_type": "code",
   "execution_count": 21,
   "id": "25f7dea5",
   "metadata": {},
   "outputs": [],
   "source": [
    "def cost_loop(theat=theta, x=x, y=y, m=m, n=n):\n",
    "    cost = 0\n",
    "    for i in range(m):\n",
    "        hypo_i = 0\n",
    "        \n",
    "        for j in range(n):\n",
    "            hypo_i = hypo_i + theta[j]*x[i,j]\n",
    "        \n",
    "        cost_i = (hypo_i - y[i])**2\n",
    "        cost   = cost + cost_i\n",
    "    \n",
    "    cost = (1/(2*m))*cost\n",
    "    return cost"
   ]
  },
  {
   "cell_type": "code",
   "execution_count": 22,
   "id": "ffda4378",
   "metadata": {},
   "outputs": [
    {
     "name": "stderr",
     "output_type": "stream",
     "text": [
      "<ipython-input-21-2f73a6cf3abf>:10: RuntimeWarning: overflow encountered in double_scalars\n",
      "  cost   = cost + cost_i\n",
      "<ipython-input-21-2f73a6cf3abf>:9: RuntimeWarning: overflow encountered in double_scalars\n",
      "  cost_i = (hypo_i - y[i])**2\n",
      "<ipython-input-22-9fe1025d6d0a>:18: RuntimeWarning: overflow encountered in double_scalars\n",
      "  dev_sum = dev_sum + dev_i\n",
      "<ipython-input-22-9fe1025d6d0a>:17: RuntimeWarning: invalid value encountered in double_scalars\n",
      "  dev_i   = x[i,k] * (hypo_i - y[i])\n",
      "<ipython-input-22-9fe1025d6d0a>:23: RuntimeWarning: invalid value encountered in subtract\n",
      "  theta    = theta - learning_rate * np.array(dev_list)\n"
     ]
    },
    {
     "name": "stdout",
     "output_type": "stream",
     "text": [
      "Time taken    :  55816.181659698486ms\n"
     ]
    }
   ],
   "source": [
    "start = time.time()\n",
    "\n",
    "theta = np.ones(n)\n",
    "learning_rate = 0.0005\n",
    "cost_list = []\n",
    "\n",
    "for itr in range(1000):  ## Number of times the below process to execute\n",
    "    dev_list = []\n",
    "    \n",
    "    for k in range(n):\n",
    "        dev_sum = 0\n",
    "        for i in range(m):\n",
    "            hypo_i = 0\n",
    "            for j in range(n):\n",
    "                hypo_i = hypo_i + (theta[j] * x[i,j])  ## hypothesis calculation \n",
    "\n",
    "            dev_i   = x[i,k] * (hypo_i - y[i])\n",
    "            dev_sum = dev_sum + dev_i\n",
    "\n",
    "        dev_sum = (1/m)*dev_sum\n",
    "        dev_list.append(dev_sum)\n",
    "\n",
    "    theta    = theta - learning_rate * np.array(dev_list)\n",
    "    cost_val = cost_loop(theta)\n",
    "    cost_list.append(cost_val)\n",
    "    \n",
    "end = time.time()\n",
    "print(\"Time taken    : \",str(1000*(end-start)) + \"ms\")"
   ]
  },
  {
   "cell_type": "code",
   "execution_count": 23,
   "id": "d2731903",
   "metadata": {},
   "outputs": [
    {
     "name": "stdout",
     "output_type": "stream",
     "text": [
      "nan\n"
     ]
    }
   ],
   "source": [
    "print(cost_val)"
   ]
  },
  {
   "cell_type": "code",
   "execution_count": 24,
   "id": "7fd7a30d",
   "metadata": {},
   "outputs": [
    {
     "data": {
      "image/png": "[encoded data removed]",
      "text/plain": [
       "<Figure size 432x288 with 1 Axes>"
      ]
     },
     "metadata": {
      "needs_background": "light"
     },
     "output_type": "display_data"
    }
   ],
   "source": [
    "plt.plot(np.arange(0, 1000),cost_list)\n",
    "\n",
    "plt.xlabel('Iteration')\n",
    "plt.ylabel('Cost Function(MSE)')\n",
    "plt.title('For Loop: MSE Trend over Iterations')\n",
    "plt.show()"
   ]
  },
  {
   "cell_type": "markdown",
   "id": "2111514c",
   "metadata": {},
   "source": [
    "# Vectorized Implementation"
   ]
  },
  {
   "cell_type": "markdown",
   "id": "faebcb65",
   "metadata": {},
   "source": [
    "## Hypothesis Implementation"
   ]
  },
  {
   "cell_type": "markdown",
   "id": "b2d34fb1",
   "metadata": {},
   "source": [
    "<img src = 'clips/hypothesis.jpg'>"
   ]
  },
  {
   "cell_type": "code",
   "execution_count": 25,
   "id": "8b6a7f27",
   "metadata": {},
   "outputs": [
    {
     "name": "stdout",
     "output_type": "stream",
     "text": [
      "Time taken :  0.0ms\n"
     ]
    }
   ],
   "source": [
    "start = time.time()\n",
    "hypo = np.dot(x,theta)  # x@theta\n",
    "end = time.time()\n",
    "\n",
    "print(\"Time taken : \",str(1000*(end-start)) + \"ms\")"
   ]
  },
  {
   "cell_type": "code",
   "execution_count": 26,
   "id": "0629a8f6",
   "metadata": {},
   "outputs": [
    {
     "name": "stdout",
     "output_type": "stream",
     "text": [
      "506\n"
     ]
    }
   ],
   "source": [
    "print(len(hypo))  ## 506 hypothesis for 506 data-points"
   ]
  },
  {
   "cell_type": "markdown",
   "id": "f4fffadf",
   "metadata": {},
   "source": [
    "## Cost Implementation\n",
    "<img src = 'clips/cost_function.png'>"
   ]
  },
  {
   "cell_type": "code",
   "execution_count": 27,
   "id": "3c47f7c6",
   "metadata": {},
   "outputs": [
    {
     "name": "stdout",
     "output_type": "stream",
     "text": [
      "Cost function :  nan\n",
      "Time taken    :  1.0004043579101562ms\n"
     ]
    }
   ],
   "source": [
    "start = time.time()\n",
    "cost_function = (1/(2*m))*np.transpose((x@theta - y))@(x@theta - y)\n",
    "end = time.time()\n",
    "\n",
    "print(\"Cost function : \",cost_function)\n",
    "print(\"Time taken    : \",str(1000*(end-start)) + \"ms\")"
   ]
  },
  {
   "cell_type": "markdown",
   "id": "3914a91b",
   "metadata": {},
   "source": [
    "<img src = 'clips/derivation.jpg'>"
   ]
  },
  {
   "cell_type": "code",
   "execution_count": 28,
   "id": "1bf92405",
   "metadata": {},
   "outputs": [
    {
     "name": "stdout",
     "output_type": "stream",
     "text": [
      "Time taken    :  0.9946823120117188ms\n"
     ]
    }
   ],
   "source": [
    "start = time.time()\n",
    "derivative = ((1/m) * np.transpose(x) @ (x@theta -y))\n",
    "end = time.time()\n",
    "\n",
    "print(\"Time taken    : \",str(1000*(end-start)) + \"ms\")"
   ]
  },
  {
   "cell_type": "code",
   "execution_count": 29,
   "id": "6dc38097",
   "metadata": {},
   "outputs": [
    {
     "name": "stdout",
     "output_type": "stream",
     "text": [
      "Derivatives for the 14 features\n",
      "[nan nan nan nan nan nan nan nan nan nan nan nan nan nan]\n"
     ]
    }
   ],
   "source": [
    "print(\"Derivatives for the 14 features\")\n",
    "print(derivative)"
   ]
  },
  {
   "cell_type": "markdown",
   "id": "c8c55cc3",
   "metadata": {},
   "source": [
    "## Gradient Descent Implementation"
   ]
  },
  {
   "cell_type": "code",
   "execution_count": 30,
   "id": "c7af529f",
   "metadata": {},
   "outputs": [],
   "source": [
    "def cost(theta, x=x, y=y, m=m):\n",
    "    cost = np.transpose(x@theta - y) @ (x@theta - y)\n",
    "    cost = (1/(2*m))*cost\n",
    "    return cost"
   ]
  },
  {
   "cell_type": "code",
   "execution_count": 34,
   "id": "adc0cb04",
   "metadata": {},
   "outputs": [
    {
     "name": "stdout",
     "output_type": "stream",
     "text": [
      "Time taken    :  13.999223709106445ms\n"
     ]
    },
    {
     "name": "stderr",
     "output_type": "stream",
     "text": [
      "<ipython-input-30-d342905f3e7c>:2: RuntimeWarning: overflow encountered in matmul\n",
      "  cost = np.transpose(x@theta - y) @ (x@theta - y)\n"
     ]
    }
   ],
   "source": [
    "start = time.time()\n",
    "a = 0.0005\n",
    "theta = np.ones(n)\n",
    "cost_list = []\n",
    "\n",
    "for i in range(100):\n",
    "    theta = theta - (a*(1/m)*np.transpose(x)) @ (x@theta - y)\n",
    "           \n",
    "    cost_val = cost(theta)\n",
    "    cost_list.append(cost_val)\n",
    "            \n",
    "end = time.time()\n",
    "print(\"Time taken    : \",str(1000*(end-start)) + \"ms\")"
   ]
  },
  {
   "cell_type": "code",
   "execution_count": 36,
   "id": "6c69b13a",
   "metadata": {},
   "outputs": [
    {
     "data": {
      "image/png": "[encoded data removed]",
      "text/plain": [
       "<Figure size 432x288 with 1 Axes>"
      ]
     },
     "metadata": {
      "needs_background": "light"
     },
     "output_type": "display_data"
    }
   ],
   "source": [
    "plt.plot(np.arange(0, 100),cost_list)\n",
    "\n",
    "plt.xlabel('Iteration')\n",
    "plt.ylabel('Cost Function(MSE)')\n",
    "plt.title('Vectorization: MSE Trend over Iterations')\n",
    "plt.show()"
   ]
  },
  {
   "cell_type": "code",
   "execution_count": 33,
   "id": "d8078772",
   "metadata": {},
   "outputs": [
    {
     "data": {
      "text/plain": [
       "'\\nReferences\\n1) https://towardsdatascience.com/vectorization-implementation-in-machine-learning-ca652920c55d\\n2) https://towardsdatascience.com/linear-regression-on-boston-housing-dataset-f409b7e4a155\\n3) https://stackoverflow.com/questions/57862963/problem-loading-medv-column-in-boston-dataset\\n'"
      ]
     },
     "execution_count": 33,
     "metadata": {},
     "output_type": "execute_result"
    }
   ],
   "source": [
    "'''\n",
    "References\n",
    "1) https://towardsdatascience.com/vectorization-implementation-in-machine-learning-ca652920c55d\n",
    "2) https://towardsdatascience.com/linear-regression-on-boston-housing-dataset-f409b7e4a155\n",
    "3) https://stackoverflow.com/questions/57862963/problem-loading-medv-column-in-boston-dataset\n",
    "'''"
   ]
  }
 ],
 "metadata": {
  "kernelspec": {
   "display_name": "Python 3",
   "language": "python",
   "name": "python3"
  },
  "language_info": {
   "codemirror_mode": {
    "name": "ipython",
    "version": 3
   },
   "file_extension": ".py",
   "mimetype": "text/x-python",
   "name": "python",
   "nbconvert_exporter": "python",
   "pygments_lexer": "ipython3",
   "version": "3.8.8"
  }
 },
 "nbformat": 4,
 "nbformat_minor": 5
}
