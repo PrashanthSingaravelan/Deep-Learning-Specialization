{
 "cells": [
  {
   "cell_type": "code",
   "execution_count": 1,
   "id": "0985a3b5",
   "metadata": {},
   "outputs": [],
   "source": [
    "import cv2\n",
    "import imutils\n",
    "import numpy as np\n",
    "import pandas as pd"
   ]
  },
  {
   "cell_type": "code",
   "execution_count": 2,
   "id": "0a3f53ca",
   "metadata": {},
   "outputs": [],
   "source": [
    "img1 = cv2.imread(\"img1.jpg\")\n",
    "img2 = cv2.imread(\"img2.jpg\")"
   ]
  },
  {
   "cell_type": "code",
   "execution_count": 3,
   "id": "58f06bee",
   "metadata": {},
   "outputs": [
    {
     "name": "stdout",
     "output_type": "stream",
     "text": [
      "Shape :  (628, 498, 3)\n",
      "Shape :  (628, 499, 3)\n"
     ]
    }
   ],
   "source": [
    "print(\"Shape : \",img1.shape)\n",
    "print(\"Shape : \",img2.shape)"
   ]
  },
  {
   "cell_type": "code",
   "execution_count": 4,
   "id": "97cb9706",
   "metadata": {},
   "outputs": [
    {
     "name": "stdout",
     "output_type": "stream",
     "text": [
      "last pixel of img1[627, 497] --> [72 60 54]\n"
     ]
    }
   ],
   "source": [
    "rows, cols = img1.shape[:2]\n",
    "last_pixel = img1[rows-1, cols-1]\n",
    "\n",
    "print(\"last pixel of img1[{}, {}] --> {}\".format(rows-1, cols-1, last_pixel))"
   ]
  },
  {
   "cell_type": "code",
   "execution_count": 5,
   "id": "b04214e7",
   "metadata": {},
   "outputs": [
    {
     "name": "stdout",
     "output_type": "stream",
     "text": [
      "last pixel of img2[627, 498] --> [69 54 52]\n"
     ]
    }
   ],
   "source": [
    "rows, cols = img2.shape[:2]\n",
    "last_pixel = img2[rows-1, cols-1]\n",
    "\n",
    "print(\"last pixel of img2[{}, {}] --> {}\".format(rows-1, cols-1, last_pixel))"
   ]
  },
  {
   "cell_type": "code",
   "execution_count": 6,
   "id": "3c99d15f",
   "metadata": {},
   "outputs": [],
   "source": [
    "def resize_big_to_small_image(img1, img2):\n",
    "    h1, w1 = img1.shape[:2]\n",
    "    h2, w2 = img2.shape[:2]\n",
    "\n",
    "    # Resize the larger image to the size of the smaller image\n",
    "    if h1 > h2 or w1 > w2:\n",
    "        img1 = cv2.resize(img1, (w2, h2), interpolation = cv2.INTER_CUBIC)\n",
    "    else:\n",
    "        img2 = cv2.resize(img2, (w1, h1), interpolation = cv2.INTER_CUBIC)\n",
    "        \n",
    "    return img1, img2"
   ]
  },
  {
   "cell_type": "code",
   "execution_count": 7,
   "id": "3ad92a91",
   "metadata": {},
   "outputs": [],
   "source": [
    "img1, img2 = resize_big_to_small_image(img1, img2)"
   ]
  },
  {
   "cell_type": "code",
   "execution_count": 8,
   "id": "1c855381",
   "metadata": {},
   "outputs": [
    {
     "name": "stdout",
     "output_type": "stream",
     "text": [
      "Shape :  (628, 498, 3)\n",
      "Shape :  (628, 498, 3)\n"
     ]
    }
   ],
   "source": [
    "print(\"Shape : \",img1.shape)\n",
    "print(\"Shape : \",img2.shape)"
   ]
  },
  {
   "cell_type": "markdown",
   "id": "0a3369d3",
   "metadata": {},
   "source": [
    "## Spotting the difference"
   ]
  },
  {
   "cell_type": "code",
   "execution_count": 9,
   "id": "4667d32e",
   "metadata": {},
   "outputs": [],
   "source": [
    "def compare_images(img1, img2):\n",
    "    dict1 = {}\n",
    "    for i in range(img1.shape[0]):\n",
    "        for j in range(img1.shape[1]):\n",
    "                if not np.array_equal(img1[i][j], img2[i][j]):\n",
    "                    value = []\n",
    "                    index = (i,j)\n",
    "                    value.append(img1[i][j])\n",
    "                    value.append(img2[i][j])\n",
    "                    dict1[index] = value\n",
    "    return dict1"
   ]
  },
  {
   "cell_type": "code",
   "execution_count": null,
   "id": "72b50867",
   "metadata": {},
   "outputs": [],
   "source": [
    "hash_dict = compare_images(img1, img2)"
   ]
  },
  {
   "cell_type": "code",
   "execution_count": 10,
   "id": "3dec1c18",
   "metadata": {},
   "outputs": [],
   "source": [
    "def extract_values(lst):\n",
    "    return lst[0], lst[1]"
   ]
  },
  {
   "cell_type": "code",
   "execution_count": 11,
   "id": "c3954ff5",
   "metadata": {},
   "outputs": [
    {
     "data": {
      "text/html": [
       "<div>\n",
       "<style scoped>\n",
       "    .dataframe tbody tr th:only-of-type {\n",
       "        vertical-align: middle;\n",
       "    }\n",
       "\n",
       "    .dataframe tbody tr th {\n",
       "        vertical-align: top;\n",
       "    }\n",
       "\n",
       "    .dataframe thead th {\n",
       "        text-align: right;\n",
       "    }\n",
       "</style>\n",
       "<table border=\"1\" class=\"dataframe\">\n",
       "  <thead>\n",
       "    <tr style=\"text-align: right;\">\n",
       "      <th></th>\n",
       "      <th>Index</th>\n",
       "      <th>image-1_and_image-2_pixel</th>\n",
       "    </tr>\n",
       "  </thead>\n",
       "  <tbody>\n",
       "    <tr>\n",
       "      <th>0</th>\n",
       "      <td>(0, 0)</td>\n",
       "      <td>[[7, 38, 23], [9, 26, 23]]</td>\n",
       "    </tr>\n",
       "    <tr>\n",
       "      <th>1</th>\n",
       "      <td>(0, 1)</td>\n",
       "      <td>[[136, 170, 160], [127, 148, 149]]</td>\n",
       "    </tr>\n",
       "    <tr>\n",
       "      <th>2</th>\n",
       "      <td>(0, 2)</td>\n",
       "      <td>[[215, 252, 250], [217, 246, 250]]</td>\n",
       "    </tr>\n",
       "    <tr>\n",
       "      <th>3</th>\n",
       "      <td>(0, 3)</td>\n",
       "      <td>[[202, 242, 247], [210, 249, 255]]</td>\n",
       "    </tr>\n",
       "    <tr>\n",
       "      <th>4</th>\n",
       "      <td>(0, 4)</td>\n",
       "      <td>[[190, 236, 247], [192, 241, 251]]</td>\n",
       "    </tr>\n",
       "  </tbody>\n",
       "</table>\n",
       "</div>"
      ],
      "text/plain": [
       "    Index           image-1_and_image-2_pixel\n",
       "0  (0, 0)          [[7, 38, 23], [9, 26, 23]]\n",
       "1  (0, 1)  [[136, 170, 160], [127, 148, 149]]\n",
       "2  (0, 2)  [[215, 252, 250], [217, 246, 250]]\n",
       "3  (0, 3)  [[202, 242, 247], [210, 249, 255]]\n",
       "4  (0, 4)  [[190, 236, 247], [192, 241, 251]]"
      ]
     },
     "execution_count": 11,
     "metadata": {},
     "output_type": "execute_result"
    }
   ],
   "source": [
    "df = pd.DataFrame(list(hash_dict.items()), columns=['Index', 'image-1_and_image-2_pixel'])\n",
    "\n",
    "df.head()"
   ]
  },
  {
   "cell_type": "code",
   "execution_count": 12,
   "id": "452a00c1",
   "metadata": {},
   "outputs": [
    {
     "data": {
      "text/html": [
       "<div>\n",
       "<style scoped>\n",
       "    .dataframe tbody tr th:only-of-type {\n",
       "        vertical-align: middle;\n",
       "    }\n",
       "\n",
       "    .dataframe tbody tr th {\n",
       "        vertical-align: top;\n",
       "    }\n",
       "\n",
       "    .dataframe thead th {\n",
       "        text-align: right;\n",
       "    }\n",
       "</style>\n",
       "<table border=\"1\" class=\"dataframe\">\n",
       "  <thead>\n",
       "    <tr style=\"text-align: right;\">\n",
       "      <th></th>\n",
       "      <th>Index</th>\n",
       "      <th>image-1 pixel</th>\n",
       "      <th>image-2 pixel</th>\n",
       "    </tr>\n",
       "  </thead>\n",
       "  <tbody>\n",
       "    <tr>\n",
       "      <th>0</th>\n",
       "      <td>(0, 0)</td>\n",
       "      <td>[7, 38, 23]</td>\n",
       "      <td>[9, 26, 23]</td>\n",
       "    </tr>\n",
       "    <tr>\n",
       "      <th>1</th>\n",
       "      <td>(0, 1)</td>\n",
       "      <td>[136, 170, 160]</td>\n",
       "      <td>[127, 148, 149]</td>\n",
       "    </tr>\n",
       "    <tr>\n",
       "      <th>2</th>\n",
       "      <td>(0, 2)</td>\n",
       "      <td>[215, 252, 250]</td>\n",
       "      <td>[217, 246, 250]</td>\n",
       "    </tr>\n",
       "    <tr>\n",
       "      <th>3</th>\n",
       "      <td>(0, 3)</td>\n",
       "      <td>[202, 242, 247]</td>\n",
       "      <td>[210, 249, 255]</td>\n",
       "    </tr>\n",
       "    <tr>\n",
       "      <th>4</th>\n",
       "      <td>(0, 4)</td>\n",
       "      <td>[190, 236, 247]</td>\n",
       "      <td>[192, 241, 251]</td>\n",
       "    </tr>\n",
       "  </tbody>\n",
       "</table>\n",
       "</div>"
      ],
      "text/plain": [
       "    Index    image-1 pixel    image-2 pixel\n",
       "0  (0, 0)      [7, 38, 23]      [9, 26, 23]\n",
       "1  (0, 1)  [136, 170, 160]  [127, 148, 149]\n",
       "2  (0, 2)  [215, 252, 250]  [217, 246, 250]\n",
       "3  (0, 3)  [202, 242, 247]  [210, 249, 255]\n",
       "4  (0, 4)  [190, 236, 247]  [192, 241, 251]"
      ]
     },
     "execution_count": 12,
     "metadata": {},
     "output_type": "execute_result"
    }
   ],
   "source": [
    "df[['image-1 pixel', 'image-2 pixel']] = df['image-1_and_image-2_pixel'].apply(extract_values).apply(pd.Series)\n",
    "df.drop('image-1_and_image-2_pixel', axis=1, inplace=True)\n",
    "\n",
    "df.head()"
   ]
  },
  {
   "cell_type": "markdown",
   "id": "c231c288",
   "metadata": {},
   "source": [
    "## Copying the image-2 pixel values into image-1 pixel values"
   ]
  },
  {
   "cell_type": "code",
   "execution_count": 13,
   "id": "73148acf",
   "metadata": {},
   "outputs": [],
   "source": [
    "def mse(img1, img2):\n",
    "    h, w, c = img1.shape\n",
    "    diff    = cv2.subtract(img1, img2)\n",
    "    err     = np.sum(diff**2)\n",
    "    mse     = err/(float(h*w))\n",
    "    return mse"
   ]
  },
  {
   "cell_type": "code",
   "execution_count": 14,
   "id": "582b5ec5",
   "metadata": {},
   "outputs": [
    {
     "data": {
      "text/plain": [
       "102.40475276903794"
      ]
     },
     "execution_count": 14,
     "metadata": {},
     "output_type": "execute_result"
    }
   ],
   "source": [
    "mse(img1, img2)"
   ]
  },
  {
   "cell_type": "code",
   "execution_count": 15,
   "id": "33b1d1b2",
   "metadata": {},
   "outputs": [],
   "source": [
    "## chaging only the mis-matched values\n",
    "for i in range(len(df)):\n",
    "    ## 1st column           2nd column\n",
    "    img1[df.iloc[i][1]] = img2[df.iloc¥[i][2]]"
   ]
  },
  {
   "cell_type": "code",
   "execution_count": 16,
   "id": "fdf65168",
   "metadata": {},
   "outputs": [
    {
     "data": {
      "text/plain": [
       "117.44698219630112"
      ]
     },
     "execution_count": 16,
     "metadata": {},
     "output_type": "execute_result"
    }
   ],
   "source": [
    "mse(img1, img2)"
   ]
  },
  {
   "cell_type": "code",
   "execution_count": 18,
   "id": "04050c2a",
   "metadata": {},
   "outputs": [],
   "source": [
    "hash_dict = compare_images(img1, img2)"
   ]
  },
  {
   "cell_type": "code",
   "execution_count": 19,
   "id": "11ec5a66",
   "metadata": {},
   "outputs": [
    {
     "data": {
      "text/html": [
       "<div>\n",
       "<style scoped>\n",
       "    .dataframe tbody tr th:only-of-type {\n",
       "        vertical-align: middle;\n",
       "    }\n",
       "\n",
       "    .dataframe tbody tr th {\n",
       "        vertical-align: top;\n",
       "    }\n",
       "\n",
       "    .dataframe thead th {\n",
       "        text-align: right;\n",
       "    }\n",
       "</style>\n",
       "<table border=\"1\" class=\"dataframe\">\n",
       "  <thead>\n",
       "    <tr style=\"text-align: right;\">\n",
       "      <th></th>\n",
       "      <th>Index</th>\n",
       "      <th>image-1_and_image-2_pixel</th>\n",
       "    </tr>\n",
       "  </thead>\n",
       "  <tbody>\n",
       "    <tr>\n",
       "      <th>0</th>\n",
       "      <td>(0, 0)</td>\n",
       "      <td>[[162, 140, 134], [9, 26, 23]]</td>\n",
       "    </tr>\n",
       "    <tr>\n",
       "      <th>1</th>\n",
       "      <td>(0, 1)</td>\n",
       "      <td>[[159, 137, 131], [127, 148, 149]]</td>\n",
       "    </tr>\n",
       "    <tr>\n",
       "      <th>2</th>\n",
       "      <td>(0, 2)</td>\n",
       "      <td>[[146, 124, 118], [217, 246, 250]]</td>\n",
       "    </tr>\n",
       "    <tr>\n",
       "      <th>3</th>\n",
       "      <td>(0, 3)</td>\n",
       "      <td>[[152, 130, 124], [210, 249, 255]]</td>\n",
       "    </tr>\n",
       "    <tr>\n",
       "      <th>4</th>\n",
       "      <td>(0, 4)</td>\n",
       "      <td>[[158, 134, 128], [192, 241, 251]]</td>\n",
       "    </tr>\n",
       "  </tbody>\n",
       "</table>\n",
       "</div>"
      ],
      "text/plain": [
       "    Index           image-1_and_image-2_pixel\n",
       "0  (0, 0)      [[162, 140, 134], [9, 26, 23]]\n",
       "1  (0, 1)  [[159, 137, 131], [127, 148, 149]]\n",
       "2  (0, 2)  [[146, 124, 118], [217, 246, 250]]\n",
       "3  (0, 3)  [[152, 130, 124], [210, 249, 255]]\n",
       "4  (0, 4)  [[158, 134, 128], [192, 241, 251]]"
      ]
     },
     "execution_count": 19,
     "metadata": {},
     "output_type": "execute_result"
    }
   ],
   "source": [
    "df = pd.DataFrame(list(hash_dict.items()), columns=['Index', 'image-1_and_image-2_pixel'])\n",
    "\n",
    "df.head()"
   ]
  },
  {
   "cell_type": "code",
   "execution_count": 20,
   "id": "45232f83",
   "metadata": {},
   "outputs": [],
   "source": [
    "# Compute the absolute difference between the pixel values of the two images\n",
    "diff = cv2.absdiff(img1, img2)\n",
    "\n",
    "# Copy the differing pixels from the difference image to the second image\n",
    "img2 = np.where(diff != 0, diff, img2)"
   ]
  },
  {
   "cell_type": "code",
   "execution_count": 24,
   "id": "08b2be29",
   "metadata": {},
   "outputs": [
    {
     "data": {
      "text/plain": [
       "True"
      ]
     },
     "execution_count": 24,
     "metadata": {},
     "output_type": "execute_result"
    }
   ],
   "source": [
    "cv2.imwrite(\"img2.jpg\", img2)"
   ]
  },
  {
   "cell_type": "code",
   "execution_count": 25,
   "id": "a2145228",
   "metadata": {},
   "outputs": [],
   "source": [
    "img1 = cv2.imread(\"img1.jpg\")\n",
    "img2 = cv2.imread(\"img2.jpg\")"
   ]
  },
  {
   "cell_type": "code",
   "execution_count": null,
   "id": "09c1c923",
   "metadata": {},
   "outputs": [],
   "source": []
  },
  {
   "cell_type": "code",
   "execution_count": 26,
   "id": "43749cf1",
   "metadata": {},
   "outputs": [
    {
     "data": {
      "text/html": [
       "<div>\n",
       "<style scoped>\n",
       "    .dataframe tbody tr th:only-of-type {\n",
       "        vertical-align: middle;\n",
       "    }\n",
       "\n",
       "    .dataframe tbody tr th {\n",
       "        vertical-align: top;\n",
       "    }\n",
       "\n",
       "    .dataframe thead th {\n",
       "        text-align: right;\n",
       "    }\n",
       "</style>\n",
       "<table border=\"1\" class=\"dataframe\">\n",
       "  <thead>\n",
       "    <tr style=\"text-align: right;\">\n",
       "      <th></th>\n",
       "      <th>Index</th>\n",
       "      <th>image-1_and_image-2_pixel</th>\n",
       "    </tr>\n",
       "  </thead>\n",
       "  <tbody>\n",
       "    <tr>\n",
       "      <th>0</th>\n",
       "      <td>(0, 0)</td>\n",
       "      <td>[[7, 38, 23], [166, 112, 119]]</td>\n",
       "    </tr>\n",
       "    <tr>\n",
       "      <th>1</th>\n",
       "      <td>(0, 1)</td>\n",
       "      <td>[[136, 170, 160], [32, 8, 16]]</td>\n",
       "    </tr>\n",
       "    <tr>\n",
       "      <th>2</th>\n",
       "      <td>(0, 2)</td>\n",
       "      <td>[[215, 252, 250], [90, 121, 130]]</td>\n",
       "    </tr>\n",
       "    <tr>\n",
       "      <th>3</th>\n",
       "      <td>(0, 3)</td>\n",
       "      <td>[[202, 242, 247], [56, 120, 131]]</td>\n",
       "    </tr>\n",
       "    <tr>\n",
       "      <th>4</th>\n",
       "      <td>(0, 4)</td>\n",
       "      <td>[[190, 236, 247], [34, 106, 123]]</td>\n",
       "    </tr>\n",
       "  </tbody>\n",
       "</table>\n",
       "</div>"
      ],
      "text/plain": [
       "    Index          image-1_and_image-2_pixel\n",
       "0  (0, 0)     [[7, 38, 23], [166, 112, 119]]\n",
       "1  (0, 1)     [[136, 170, 160], [32, 8, 16]]\n",
       "2  (0, 2)  [[215, 252, 250], [90, 121, 130]]\n",
       "3  (0, 3)  [[202, 242, 247], [56, 120, 131]]\n",
       "4  (0, 4)  [[190, 236, 247], [34, 106, 123]]"
      ]
     },
     "execution_count": 26,
     "metadata": {},
     "output_type": "execute_result"
    }
   ],
   "source": [
    "hash_dict = compare_images(img1, img2)\n",
    "df = pd.DataFrame(list(hash_dict.items()), columns=['Index', 'image-1_and_image-2_pixel'])\n",
    "\n",
    "df.head()"
   ]
  },
  {
   "cell_type": "code",
   "execution_count": 27,
   "id": "aff7cce6",
   "metadata": {},
   "outputs": [
    {
     "data": {
      "text/plain": [
       "array([[[  7,  38,  23],\n",
       "        [136, 170, 160],\n",
       "        [215, 252, 250],\n",
       "        ...,\n",
       "        [ 52,  37,  35],\n",
       "        [ 67,  48,  33],\n",
       "        [ 62,  43,  28]],\n",
       "\n",
       "       [[  8,  39,  30],\n",
       "        [136, 170, 164],\n",
       "        [213, 248, 251],\n",
       "        ...,\n",
       "        [ 54,  39,  37],\n",
       "        [ 63,  46,  33],\n",
       "        [ 59,  42,  29]],\n",
       "\n",
       "       [[  4,  36,  35],\n",
       "        [128, 163, 167],\n",
       "        [208, 244, 254],\n",
       "        ...,\n",
       "        [ 56,  41,  39],\n",
       "        [ 57,  42,  33],\n",
       "        [ 55,  40,  31]],\n",
       "\n",
       "       ...,\n",
       "\n",
       "       [[128, 188, 254],\n",
       "        [117, 184, 253],\n",
       "        [104, 180, 255],\n",
       "        ...,\n",
       "        [ 63,  48,  46],\n",
       "        [ 62,  48,  42],\n",
       "        [ 71,  59,  53]],\n",
       "\n",
       "       [[123, 184, 252],\n",
       "        [102, 171, 241],\n",
       "        [ 86, 164, 241],\n",
       "        ...,\n",
       "        [ 70,  55,  53],\n",
       "        [ 63,  49,  43],\n",
       "        [ 72,  60,  54]],\n",
       "\n",
       "       [[117, 182, 251],\n",
       "        [ 91, 160, 233],\n",
       "        [ 73, 152, 231],\n",
       "        ...,\n",
       "        [ 74,  59,  57],\n",
       "        [ 63,  49,  43],\n",
       "        [ 72,  60,  54]]], dtype=uint8)"
      ]
     },
     "execution_count": 27,
     "metadata": {},
     "output_type": "execute_result"
    }
   ],
   "source": [
    "img1"
   ]
  },
  {
   "cell_type": "code",
   "execution_count": null,
   "id": "84a85e43",
   "metadata": {},
   "outputs": [],
   "source": [
    "img1 = cv2.imread(\"img1.jpg\")\n",
    "img2 = cv2.imread(\"img2.jpg\")"
   ]
  },
  {
   "cell_type": "code",
   "execution_count": null,
   "id": "fb9f3970",
   "metadata": {},
   "outputs": [],
   "source": [
    "height, width, channels = img.shape\n",
    "for i in range(height):\n",
    "    for j in range(width):\n",
    "        # Modify the individual pixel values\n",
    "        img[i, j] = (255, 0, 0)"
   ]
  }
 ],
 "metadata": {
  "kernelspec": {
   "display_name": "Python 3 (ipykernel)",
   "language": "python",
   "name": "python3"
  },
  "language_info": {
   "codemirror_mode": {
    "name": "ipython",
    "version": 3
   },
   "file_extension": ".py",
   "mimetype": "text/x-python",
   "name": "python",
   "nbconvert_exporter": "python",
   "pygments_lexer": "ipython3",
   "version": "3.10.6"
  }
 },
 "nbformat": 4,
 "nbformat_minor": 5
}
