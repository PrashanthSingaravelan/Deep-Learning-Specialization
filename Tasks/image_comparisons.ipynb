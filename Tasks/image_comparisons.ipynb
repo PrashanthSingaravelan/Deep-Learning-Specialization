{
 "cells": [
  {
   "cell_type": "code",
   "execution_count": 1,
   "id": "0985a3b5",
   "metadata": {},
   "outputs": [],
   "source": [
    "import cv2\n",
    "import imutils\n",
    "import numpy as np\n",
    "import pandas as pd"
   ]
  },
  {
   "cell_type": "code",
   "execution_count": 2,
   "id": "0a3f53ca",
   "metadata": {},
   "outputs": [
    {
     "name": "stdout",
     "output_type": "stream",
     "text": [
      "Shape :  (628, 498, 3)\n",
      "[[[  7  38  23]\n",
      "  [136 170 160]\n",
      "  [215 252 250]\n",
      "  ...\n",
      "  [ 52  37  35]\n",
      "  [ 67  48  33]\n",
      "  [ 62  43  28]]\n",
      "\n",
      " [[  8  39  30]\n",
      "  [136 170 164]\n",
      "  [213 248 251]\n",
      "  ...\n",
      "  [ 54  39  37]\n",
      "  [ 63  46  33]\n",
      "  [ 59  42  29]]\n",
      "\n",
      " [[  4  36  35]\n",
      "  [128 163 167]\n",
      "  [208 244 254]\n",
      "  ...\n",
      "  [ 56  41  39]\n",
      "  [ 57  42  33]\n",
      "  [ 55  40  31]]\n",
      "\n",
      " ...\n",
      "\n",
      " [[128 188 254]\n",
      "  [117 184 253]\n",
      "  [104 180 255]\n",
      "  ...\n",
      "  [ 63  48  46]\n",
      "  [ 62  48  42]\n",
      "  [ 71  59  53]]\n",
      "\n",
      " [[123 184 252]\n",
      "  [102 171 241]\n",
      "  [ 86 164 241]\n",
      "  ...\n",
      "  [ 70  55  53]\n",
      "  [ 63  49  43]\n",
      "  [ 72  60  54]]\n",
      "\n",
      " [[117 182 251]\n",
      "  [ 91 160 233]\n",
      "  [ 73 152 231]\n",
      "  ...\n",
      "  [ 74  59  57]\n",
      "  [ 63  49  43]\n",
      "  [ 72  60  54]]]\n"
     ]
    }
   ],
   "source": [
    "img1 = cv2.imread(\"img1.jpg\")\n",
    "print(\"Shape : \",img1.shape)\n",
    "print(img1)"
   ]
  },
  {
   "cell_type": "code",
   "execution_count": 3,
   "id": "d7e23167",
   "metadata": {},
   "outputs": [
    {
     "name": "stdout",
     "output_type": "stream",
     "text": [
      "Shape :  (628, 499, 3)\n",
      "[[[  9  26  23]\n",
      "  [126 147 148]\n",
      "  [217 246 250]\n",
      "  ...\n",
      "  [ 57  42  40]\n",
      "  [ 56  41  39]\n",
      "  [ 54  39  37]]\n",
      "\n",
      " [[ 31  51  52]\n",
      "  [126 151 153]\n",
      "  [216 248 254]\n",
      "  ...\n",
      "  [ 57  42  40]\n",
      "  [ 55  40  38]\n",
      "  [ 54  39  37]]\n",
      "\n",
      " [[ 21  45  51]\n",
      "  [116 145 154]\n",
      "  [198 233 246]\n",
      "  ...\n",
      "  [ 56  41  39]\n",
      "  [ 55  40  38]\n",
      "  [ 54  39  37]]\n",
      "\n",
      " ...\n",
      "\n",
      " [[155 189 232]\n",
      "  [142 190 242]\n",
      "  [114 184 251]\n",
      "  ...\n",
      "  [ 68  53  51]\n",
      "  [ 69  54  52]\n",
      "  [ 71  56  54]]\n",
      "\n",
      " [[144 182 224]\n",
      "  [127 177 229]\n",
      "  [101 172 240]\n",
      "  ...\n",
      "  [ 67  52  50]\n",
      "  [ 68  53  51]\n",
      "  [ 70  55  53]]\n",
      "\n",
      " [[137 177 219]\n",
      "  [115 170 221]\n",
      "  [ 89 164 232]\n",
      "  ...\n",
      "  [ 66  51  49]\n",
      "  [ 67  52  50]\n",
      "  [ 69  54  52]]]\n"
     ]
    }
   ],
   "source": [
    "img2 = cv2.imread(\"img2.jpg\")\n",
    "print(\"Shape : \",img2.shape)\n",
    "print(img2)"
   ]
  },
  {
   "cell_type": "code",
   "execution_count": 4,
   "id": "d5a2c22b",
   "metadata": {},
   "outputs": [
    {
     "name": "stdout",
     "output_type": "stream",
     "text": [
      "Image-1 :  [215 252 250]\n",
      "Image-2 :  [217 246 250]\n"
     ]
    }
   ],
   "source": [
    "print(\"Image-1 : \",img1[0][2])\n",
    "print(\"Image-2 : \",img2[0][2])"
   ]
  },
  {
   "cell_type": "code",
   "execution_count": 5,
   "id": "4667d32e",
   "metadata": {},
   "outputs": [],
   "source": [
    "def compare_images(img1, img2):\n",
    "    dict1 = {}\n",
    "    for i in range(img1.shape[0]):\n",
    "        for j in range(img1.shape[1]):\n",
    "                if not np.array_equal(img1[i][j], img2[i][j]):\n",
    "                    index = (i,j)\n",
    "                    value = img2[i][j]\n",
    "                    dict1[index] = value\n",
    "    return dict1\n",
    "\n",
    "hash_dict = compare_images(img1, img2)"
   ]
  },
  {
   "cell_type": "code",
   "execution_count": 6,
   "id": "c3954ff5",
   "metadata": {},
   "outputs": [],
   "source": [
    "hash_dict\n",
    "df = pd.DataFrame(list(hash_dict.items()), columns=['Index', 'image-2 pixel'])"
   ]
  },
  {
   "cell_type": "code",
   "execution_count": 7,
   "id": "8bbd536f",
   "metadata": {},
   "outputs": [
    {
     "data": {
      "text/html": [
       "<div>\n",
       "<style scoped>\n",
       "    .dataframe tbody tr th:only-of-type {\n",
       "        vertical-align: middle;\n",
       "    }\n",
       "\n",
       "    .dataframe tbody tr th {\n",
       "        vertical-align: top;\n",
       "    }\n",
       "\n",
       "    .dataframe thead th {\n",
       "        text-align: right;\n",
       "    }\n",
       "</style>\n",
       "<table border=\"1\" class=\"dataframe\">\n",
       "  <thead>\n",
       "    <tr style=\"text-align: right;\">\n",
       "      <th></th>\n",
       "      <th>Index</th>\n",
       "      <th>image-2 pixel</th>\n",
       "    </tr>\n",
       "  </thead>\n",
       "  <tbody>\n",
       "    <tr>\n",
       "      <th>0</th>\n",
       "      <td>(0, 0)</td>\n",
       "      <td>[9, 26, 23]</td>\n",
       "    </tr>\n",
       "    <tr>\n",
       "      <th>1</th>\n",
       "      <td>(0, 1)</td>\n",
       "      <td>[126, 147, 148]</td>\n",
       "    </tr>\n",
       "    <tr>\n",
       "      <th>2</th>\n",
       "      <td>(0, 2)</td>\n",
       "      <td>[217, 246, 250]</td>\n",
       "    </tr>\n",
       "    <tr>\n",
       "      <th>3</th>\n",
       "      <td>(0, 3)</td>\n",
       "      <td>[210, 249, 255]</td>\n",
       "    </tr>\n",
       "    <tr>\n",
       "      <th>4</th>\n",
       "      <td>(0, 4)</td>\n",
       "      <td>[192, 241, 251]</td>\n",
       "    </tr>\n",
       "  </tbody>\n",
       "</table>\n",
       "</div>"
      ],
      "text/plain": [
       "    Index    image-2 pixel\n",
       "0  (0, 0)      [9, 26, 23]\n",
       "1  (0, 1)  [126, 147, 148]\n",
       "2  (0, 2)  [217, 246, 250]\n",
       "3  (0, 3)  [210, 249, 255]\n",
       "4  (0, 4)  [192, 241, 251]"
      ]
     },
     "execution_count": 7,
     "metadata": {},
     "output_type": "execute_result"
    }
   ],
   "source": [
    "df.head()"
   ]
  }
 ],
 "metadata": {
  "kernelspec": {
   "display_name": "Python 3 (ipykernel)",
   "language": "python",
   "name": "python3"
  },
  "language_info": {
   "codemirror_mode": {
    "name": "ipython",
    "version": 3
   },
   "file_extension": ".py",
   "mimetype": "text/x-python",
   "name": "python",
   "nbconvert_exporter": "python",
   "pygments_lexer": "ipython3",
   "version": "3.10.6"
  }
 },
 "nbformat": 4,
 "nbformat_minor": 5
}
