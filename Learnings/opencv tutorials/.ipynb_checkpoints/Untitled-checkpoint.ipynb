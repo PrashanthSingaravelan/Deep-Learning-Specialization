{
 "cells": [
  {
   "cell_type": "code",
   "execution_count": 1,
   "id": "0884f43c",
   "metadata": {},
   "outputs": [],
   "source": [
    "import cv2\n",
    "import imutils\n",
    "import numpy as np\n",
    "import pandas as pd\n",
    "\n",
    "import matplotlib.pyplot as plt"
   ]
  },
  {
   "cell_type": "code",
   "execution_count": 2,
   "id": "bc63f356",
   "metadata": {},
   "outputs": [],
   "source": [
    "def display(img):    \n",
    "    plt.imshow(img)\n",
    "    plt.show()"
   ]
  },
  {
   "cell_type": "code",
   "execution_count": 3,
   "id": "15f4f8fe",
   "metadata": {},
   "outputs": [
    {
     "name": "stderr",
     "output_type": "stream",
     "text": [
      "[ WARN:0@3.587] global loadsave.cpp:244 findDecoder imread_('img1.jpg'): can't open/read file: check file path/integrity\n",
      "[ WARN:0@3.592] global loadsave.cpp:244 findDecoder imread_('img1.jpg'): can't open/read file: check file path/integrity\n"
     ]
    }
   ],
   "source": [
    "img1 = cv2.imread(\"img1.jpg\")\n",
    "img2 = cv2.imread(\"img1.jpg\")"
   ]
  },
  {
   "cell_type": "code",
   "execution_count": 4,
   "id": "c4776659",
   "metadata": {},
   "outputs": [
    {
     "ename": "AttributeError",
     "evalue": "'NoneType' object has no attribute 'shape'",
     "output_type": "error",
     "traceback": [
      "\u001b[0;31m---------------------------------------------------------------------------\u001b[0m",
      "\u001b[0;31mAttributeError\u001b[0m                            Traceback (most recent call last)",
      "Cell \u001b[0;32mIn [4], line 1\u001b[0m\n\u001b[0;32m----> 1\u001b[0m \u001b[38;5;28mprint\u001b[39m(\u001b[38;5;124m\"\u001b[39m\u001b[38;5;124mShape : \u001b[39m\u001b[38;5;124m\"\u001b[39m,img1\u001b[38;5;241m.\u001b[39mshape)\n\u001b[1;32m      2\u001b[0m \u001b[38;5;28mprint\u001b[39m(\u001b[38;5;124m\"\u001b[39m\u001b[38;5;124mShape : \u001b[39m\u001b[38;5;124m\"\u001b[39m,img2\u001b[38;5;241m.\u001b[39mshape)\n",
      "\u001b[0;31mAttributeError\u001b[0m: 'NoneType' object has no attribute 'shape'"
     ]
    }
   ],
   "source": [
    "print(\"Shape : \",img1.shape)\n",
    "print(\"Shape : \",img2.shape)"
   ]
  },
  {
   "cell_type": "code",
   "execution_count": null,
   "id": "f51bad48",
   "metadata": {},
   "outputs": [],
   "source": [
    "for _ in range(100):\n",
    "    modified_height = np.random.randint(0,628)\n",
    "    modified_width  = np.random.randint(0,498)\n",
    "    #print(img2[modified_height][modified_width])\n",
    "    img2[modified_height][modified_width]= (0,255,0)\n",
    "    #print(img2[modified_height][modified_width])"
   ]
  },
  {
   "cell_type": "code",
   "execution_count": null,
   "id": "721b52e9",
   "metadata": {},
   "outputs": [],
   "source": [
    "def mse(img1, img2):\n",
    "    h, w, c = img1.shape\n",
    "    diff    = cv2.subtract(img1, img2)\n",
    "    err     = np.sum(diff**2)\n",
    "    mse     = err/(float(h*w))\n",
    "    return mse"
   ]
  },
  {
   "cell_type": "code",
   "execution_count": null,
   "id": "30181284",
   "metadata": {},
   "outputs": [],
   "source": []
  },
  {
   "cell_type": "code",
   "execution_count": null,
   "id": "a4696470",
   "metadata": {},
   "outputs": [],
   "source": [
    "# Find the pixels in img1 that differ from the corresponding pixels in img2\n",
    "diff = cv2.absdiff(img1, img2)\n",
    "\n",
    "# Threshold the difference image to highlight only the differing pixels\n",
    "_, threshold = cv2.threshold(diff, 25, 255, cv2.THRESH_BINARY)\n",
    "\n",
    "# Split the channels of the thresholded difference image\n",
    "_, threshold_b, threshold_g, threshold_r = cv2.split(threshold)\n",
    "\n",
    "# Split the channels of img1\n",
    "img1_b, img1_g, img1_r = cv2.split(img1)\n",
    "\n",
    "# Copy the differing pixels from img1 to img2\n",
    "img2_b = cv2.add(img2[:,:,0], threshold_b)\n",
    "img2_g = cv2.add(img2[:,:,1], threshold_g)\n",
    "img2_r = cv2.add(img2[:,:,2], threshold_r)\n",
    "img2 = cv2.merge((img2_b, img2_g, img2_r))"
   ]
  }
 ],
 "metadata": {
  "kernelspec": {
   "display_name": "Python 3 (ipykernel)",
   "language": "python",
   "name": "python3"
  },
  "language_info": {
   "codemirror_mode": {
    "name": "ipython",
    "version": 3
   },
   "file_extension": ".py",
   "mimetype": "text/x-python",
   "name": "python",
   "nbconvert_exporter": "python",
   "pygments_lexer": "ipython3",
   "version": "3.10.6"
  }
 },
 "nbformat": 4,
 "nbformat_minor": 5
}
